{
 "cells": [
  {
   "cell_type": "code",
   "execution_count": 326,
   "id": "99f3fd26",
   "metadata": {},
   "outputs": [],
   "source": [
    "import numpy as np\n",
    "import pandas as pd\n",
    "from sklearn.model_selection import train_test_split\n",
    "from sklearn.feature_extraction.text import TfidfVectorizer\n",
    "from sklearn.linear_model import LogisticRegression\n",
    "from sklearn.metrics import accuracy_score\n",
    "from sklearn.svm import LinearSVC"
   ]
  },
  {
   "cell_type": "code",
   "execution_count": 327,
   "id": "f4318d07",
   "metadata": {},
   "outputs": [
    {
     "name": "stdout",
     "output_type": "stream",
     "text": [
      "     Category                                            Message\n",
      "0         ham  Go until jurong point, crazy.. Available only ...\n",
      "1         ham                      Ok lar... Joking wif u oni...\n",
      "2        spam  Free entry in 2 a wkly comp to win FA Cup fina...\n",
      "3         ham  U dun say so early hor... U c already then say...\n",
      "4         ham  Nah I don't think he goes to usf, he lives aro...\n",
      "...       ...                                                ...\n",
      "5567     spam  This is the 2nd time we have tried 2 contact u...\n",
      "5568      ham               Will ü b going to esplanade fr home?\n",
      "5569      ham  Pity, * was in mood for that. So...any other s...\n",
      "5570      ham  The guy did some bitching but I acted like i'd...\n",
      "5571      ham                         Rofl. Its true to its name\n",
      "\n",
      "[5572 rows x 2 columns]\n"
     ]
    }
   ],
   "source": [
    "df=pd.read_csv('mail_data.csv')\n",
    "print(df)"
   ]
  },
  {
   "cell_type": "code",
   "execution_count": 328,
   "id": "8683790a",
   "metadata": {},
   "outputs": [
    {
     "name": "stdout",
     "output_type": "stream",
     "text": [
      "     Category                                            Message\n",
      "0          -1  Go until jurong point, crazy.. Available only ...\n",
      "1          -1                      Ok lar... Joking wif u oni...\n",
      "2           1  Free entry in 2 a wkly comp to win FA Cup fina...\n",
      "3          -1  U dun say so early hor... U c already then say...\n",
      "4          -1  Nah I don't think he goes to usf, he lives aro...\n",
      "...       ...                                                ...\n",
      "5567        1  This is the 2nd time we have tried 2 contact u...\n",
      "5568       -1               Will ü b going to esplanade fr home?\n",
      "5569       -1  Pity, * was in mood for that. So...any other s...\n",
      "5570       -1  The guy did some bitching but I acted like i'd...\n",
      "5571       -1                         Rofl. Its true to its name\n",
      "\n",
      "[5572 rows x 2 columns]\n"
     ]
    }
   ],
   "source": [
    "data=df.where(pd.notnull(df),'')\n",
    "data.loc[data['Category']=='spam','Category'] = 1\n",
    "data.loc[data['Category']=='ham','Category'] = -1\n",
    "print(data)"
   ]
  },
  {
   "cell_type": "code",
   "execution_count": 329,
   "id": "845bb455",
   "metadata": {},
   "outputs": [],
   "source": [
    "X=data['Message']\n",
    "Y=data['Category']"
   ]
  },
  {
   "cell_type": "code",
   "execution_count": 330,
   "id": "2b56ff0b",
   "metadata": {},
   "outputs": [],
   "source": [
    "X_train,X_test,Y_train, Y_test = train_test_split(X,Y,test_size=0.3,random_state=4)"
   ]
  },
  {
   "cell_type": "code",
   "execution_count": 331,
   "id": "8d91aee5",
   "metadata": {},
   "outputs": [],
   "source": [
    "# test data to fature vector\n",
    "feature_extraction = TfidfVectorizer(min_df = 1, stop_words = 'english', lowercase='True')\n",
    "X_train_features = feature_extraction.fit_transform(X_train)\n",
    "Y_train = Y_train.astype('int')\n",
    "clf = LinearSVC( loss = \"hinge\" )\n",
    "clf.fit(X_train_features,Y_train)\n",
    "def test(X_test_features, Y_test):   \n",
    "    clf_prediction_on_test_data = clf.predict(X_test_features)\n",
    "    clf_accuracy_on_test_data = accuracy_score(Y_test, clf_prediction_on_test_data)\n",
    "    print(f\"Achieved Accuracy: {clf_accuracy_on_test_data * 100:.2f}%\")"
   ]
  },
  {
   "cell_type": "code",
   "execution_count": 332,
   "id": "dfce3819",
   "metadata": {},
   "outputs": [
    {
     "name": "stdout",
     "output_type": "stream",
     "text": [
      "Achieved Accuracy: 98.39%\n"
     ]
    }
   ],
   "source": [
    "X_test_features = feature_extraction.transform(X_test) \n",
    "Y_test = Y_test.astype('int')\n",
    "test(X_test_features,Y_test)"
   ]
  }
 ],
 "metadata": {
  "kernelspec": {
   "display_name": "Python 3 (ipykernel)",
   "language": "python",
   "name": "python3"
  },
  "language_info": {
   "codemirror_mode": {
    "name": "ipython",
    "version": 3
   },
   "file_extension": ".py",
   "mimetype": "text/x-python",
   "name": "python",
   "nbconvert_exporter": "python",
   "pygments_lexer": "ipython3",
   "version": "3.9.12"
  }
 },
 "nbformat": 4,
 "nbformat_minor": 5
}
